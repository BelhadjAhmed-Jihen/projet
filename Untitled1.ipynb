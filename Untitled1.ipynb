{
 "cells": [
  {
   "cell_type": "code",
   "execution_count": 244,
   "metadata": {},
   "outputs": [
    {
     "name": "stdout",
     "output_type": "stream",
     "text": [
      "shape  (2985, 10)\n",
      "shape  (2000, 10)\n"
     ]
    },
    {
     "data": {
      "text/html": [
       "<div>\n",
       "<style scoped>\n",
       "    .dataframe tbody tr th:only-of-type {\n",
       "        vertical-align: middle;\n",
       "    }\n",
       "\n",
       "    .dataframe tbody tr th {\n",
       "        vertical-align: top;\n",
       "    }\n",
       "\n",
       "    .dataframe thead th {\n",
       "        text-align: right;\n",
       "    }\n",
       "</style>\n",
       "<table border=\"1\" class=\"dataframe\">\n",
       "  <thead>\n",
       "    <tr style=\"text-align: right;\">\n",
       "      <th></th>\n",
       "      <th>Unnamed: 0</th>\n",
       "      <th>username</th>\n",
       "      <th>description</th>\n",
       "      <th>location</th>\n",
       "      <th>following</th>\n",
       "      <th>followers</th>\n",
       "      <th>totaltweets</th>\n",
       "      <th>retweetcount</th>\n",
       "      <th>text</th>\n",
       "      <th>hashtags</th>\n",
       "    </tr>\n",
       "  </thead>\n",
       "  <tbody>\n",
       "    <tr>\n",
       "      <th>0</th>\n",
       "      <td>0</td>\n",
       "      <td>GOLDNWILLOW</td>\n",
       "      <td>evermore, track 10 (she/her - no pet names)</td>\n",
       "      <td>in between zarry</td>\n",
       "      <td>692</td>\n",
       "      <td>557</td>\n",
       "      <td>14814</td>\n",
       "      <td>0</td>\n",
       "      <td>HARRY I DONT HAVE AMAZON MUSIC https://t.co/C5...</td>\n",
       "      <td>[]</td>\n",
       "    </tr>\n",
       "    <tr>\n",
       "      <th>1</th>\n",
       "      <td>1</td>\n",
       "      <td>manni_best</td>\n",
       "      <td>This is a music page. I'm a Lover of beautiful...</td>\n",
       "      <td>NaN</td>\n",
       "      <td>1843</td>\n",
       "      <td>10230</td>\n",
       "      <td>188958</td>\n",
       "      <td>0</td>\n",
       "      <td>♫ MUSIC TIP ♫\\nlynx hollow - @lynxhollow \\nAlb...</td>\n",
       "      <td>['lynx', 'hollow', 'AlternativeRock', 'US']</td>\n",
       "    </tr>\n",
       "    <tr>\n",
       "      <th>2</th>\n",
       "      <td>2</td>\n",
       "      <td>buckysepilogue</td>\n",
       "      <td>— hs1, track 9</td>\n",
       "      <td>she/her</td>\n",
       "      <td>81</td>\n",
       "      <td>94</td>\n",
       "      <td>408</td>\n",
       "      <td>0</td>\n",
       "      <td>@HSHQ @amazonmusic now who the fuck has amazon...</td>\n",
       "      <td>[]</td>\n",
       "    </tr>\n",
       "    <tr>\n",
       "      <th>3</th>\n",
       "      <td>3</td>\n",
       "      <td>meryc0na</td>\n",
       "      <td>el melonerooo hay melones y sandias melones y ...</td>\n",
       "      <td>Madrid</td>\n",
       "      <td>101</td>\n",
       "      <td>76</td>\n",
       "      <td>28348</td>\n",
       "      <td>510</td>\n",
       "      <td>FKA twigs sues ex-boyfriend Shia LaBeouf for s...</td>\n",
       "      <td>[]</td>\n",
       "    </tr>\n",
       "    <tr>\n",
       "      <th>4</th>\n",
       "      <td>4</td>\n",
       "      <td>positionsharrys</td>\n",
       "      <td>number one better off stan 💭 swt march 20 2019...</td>\n",
       "      <td>x2 🌫</td>\n",
       "      <td>892</td>\n",
       "      <td>871</td>\n",
       "      <td>2522</td>\n",
       "      <td>0</td>\n",
       "      <td>@HSHQ @amazonmusic nobody has amazon music im ...</td>\n",
       "      <td>[]</td>\n",
       "    </tr>\n",
       "  </tbody>\n",
       "</table>\n",
       "</div>"
      ],
      "text/plain": [
       "   Unnamed: 0         username  \\\n",
       "0           0      GOLDNWILLOW   \n",
       "1           1       manni_best   \n",
       "2           2   buckysepilogue   \n",
       "3           3         meryc0na   \n",
       "4           4  positionsharrys   \n",
       "\n",
       "                                         description          location  \\\n",
       "0        evermore, track 10 (she/her - no pet names)  in between zarry   \n",
       "1  This is a music page. I'm a Lover of beautiful...               NaN   \n",
       "2                                     — hs1, track 9           she/her   \n",
       "3  el melonerooo hay melones y sandias melones y ...            Madrid   \n",
       "4  number one better off stan 💭 swt march 20 2019...              x2 🌫   \n",
       "\n",
       "   following  followers  totaltweets  retweetcount  \\\n",
       "0        692        557        14814             0   \n",
       "1       1843      10230       188958             0   \n",
       "2         81         94          408             0   \n",
       "3        101         76        28348           510   \n",
       "4        892        871         2522             0   \n",
       "\n",
       "                                                text  \\\n",
       "0  HARRY I DONT HAVE AMAZON MUSIC https://t.co/C5...   \n",
       "1  ♫ MUSIC TIP ♫\\nlynx hollow - @lynxhollow \\nAlb...   \n",
       "2  @HSHQ @amazonmusic now who the fuck has amazon...   \n",
       "3  FKA twigs sues ex-boyfriend Shia LaBeouf for s...   \n",
       "4  @HSHQ @amazonmusic nobody has amazon music im ...   \n",
       "\n",
       "                                      hashtags  \n",
       "0                                           []  \n",
       "1  ['lynx', 'hollow', 'AlternativeRock', 'US']  \n",
       "2                                           []  \n",
       "3                                           []  \n",
       "4                                           []  "
      ]
     },
     "execution_count": 244,
     "metadata": {},
     "output_type": "execute_result"
    }
   ],
   "source": [
    "import numpy as np\n",
    "import matplotlib.pyplot as plt\n",
    "import seaborn as sns\n",
    "import pandas as pd\n",
    "\n",
    "df = pd.read_csv('scraped_tweets.csv')\n",
    "# Affichage de la taille du dataset (n_lignes and n_colonnes)\n",
    "print(\"shape \", df.shape)\n",
    "df.head()\n",
    "df_1= pd.read_csv('scraped_tweets1.csv')\n",
    "# Affichage de la taille du dataset (n_lignes and n_colonnes)\n",
    "print(\"shape \", df_1.shape)\n",
    "df_1.head()"
   ]
  },
  {
   "cell_type": "code",
   "execution_count": 245,
   "metadata": {},
   "outputs": [
    {
     "name": "stdout",
     "output_type": "stream",
     "text": [
      "(4985, 10)\n"
     ]
    },
    {
     "data": {
      "text/html": [
       "<div>\n",
       "<style scoped>\n",
       "    .dataframe tbody tr th:only-of-type {\n",
       "        vertical-align: middle;\n",
       "    }\n",
       "\n",
       "    .dataframe tbody tr th {\n",
       "        vertical-align: top;\n",
       "    }\n",
       "\n",
       "    .dataframe thead th {\n",
       "        text-align: right;\n",
       "    }\n",
       "</style>\n",
       "<table border=\"1\" class=\"dataframe\">\n",
       "  <thead>\n",
       "    <tr style=\"text-align: right;\">\n",
       "      <th></th>\n",
       "      <th>Unnamed: 0</th>\n",
       "      <th>username</th>\n",
       "      <th>description</th>\n",
       "      <th>location</th>\n",
       "      <th>following</th>\n",
       "      <th>followers</th>\n",
       "      <th>totaltweets</th>\n",
       "      <th>retweetcount</th>\n",
       "      <th>text</th>\n",
       "      <th>hashtags</th>\n",
       "    </tr>\n",
       "  </thead>\n",
       "  <tbody>\n",
       "    <tr>\n",
       "      <th>0</th>\n",
       "      <td>0</td>\n",
       "      <td>DatGladiatah</td>\n",
       "      <td>NaN</td>\n",
       "      <td>NaN</td>\n",
       "      <td>134</td>\n",
       "      <td>14</td>\n",
       "      <td>2226</td>\n",
       "      <td>0</td>\n",
       "      <td>@TulsiGabbard the biological essentialism of T...</td>\n",
       "      <td>[]</td>\n",
       "    </tr>\n",
       "    <tr>\n",
       "      <th>1</th>\n",
       "      <td>1</td>\n",
       "      <td>EliHayes_</td>\n",
       "      <td>ECU Alumnus 🏴‍☠️ | 910</td>\n",
       "      <td>North Carolina, USA</td>\n",
       "      <td>84</td>\n",
       "      <td>76</td>\n",
       "      <td>4239</td>\n",
       "      <td>1</td>\n",
       "      <td>mighty funny how nobody in black sports media ...</td>\n",
       "      <td>[]</td>\n",
       "    </tr>\n",
       "    <tr>\n",
       "      <th>2</th>\n",
       "      <td>2</td>\n",
       "      <td>braincelltwo</td>\n",
       "      <td>Taking it well</td>\n",
       "      <td>Art by @sloppjockey</td>\n",
       "      <td>988</td>\n",
       "      <td>4496</td>\n",
       "      <td>54644</td>\n",
       "      <td>0</td>\n",
       "      <td>Tht time I was put in a gc full of barstool sp...</td>\n",
       "      <td>[]</td>\n",
       "    </tr>\n",
       "    <tr>\n",
       "      <th>3</th>\n",
       "      <td>3</td>\n",
       "      <td>WuanChill</td>\n",
       "      <td>#MCFC #FlyEaglesFly. This is a Anthony Martial...</td>\n",
       "      <td>NaN</td>\n",
       "      <td>279</td>\n",
       "      <td>137</td>\n",
       "      <td>17911</td>\n",
       "      <td>1</td>\n",
       "      <td>mighty funny how nobody in black sports media ...</td>\n",
       "      <td>[]</td>\n",
       "    </tr>\n",
       "    <tr>\n",
       "      <th>4</th>\n",
       "      <td>4</td>\n",
       "      <td>schweitz_ay</td>\n",
       "      <td>This guy gets it</td>\n",
       "      <td>NaN</td>\n",
       "      <td>425</td>\n",
       "      <td>57</td>\n",
       "      <td>1027</td>\n",
       "      <td>0</td>\n",
       "      <td>@DanSoder @katienolan that Andre AD read made ...</td>\n",
       "      <td>['sports']</td>\n",
       "    </tr>\n",
       "  </tbody>\n",
       "</table>\n",
       "</div>"
      ],
      "text/plain": [
       "   Unnamed: 0      username  \\\n",
       "0           0  DatGladiatah   \n",
       "1           1     EliHayes_   \n",
       "2           2  braincelltwo   \n",
       "3           3     WuanChill   \n",
       "4           4   schweitz_ay   \n",
       "\n",
       "                                         description             location  \\\n",
       "0                                                NaN                  NaN   \n",
       "1                             ECU Alumnus 🏴‍☠️ | 910  North Carolina, USA   \n",
       "2                                     Taking it well  Art by @sloppjockey   \n",
       "3  #MCFC #FlyEaglesFly. This is a Anthony Martial...                  NaN   \n",
       "4                                   This guy gets it                  NaN   \n",
       "\n",
       "   following  followers  totaltweets  retweetcount  \\\n",
       "0        134         14         2226             0   \n",
       "1         84         76         4239             1   \n",
       "2        988       4496        54644             0   \n",
       "3        279        137        17911             1   \n",
       "4        425         57         1027             0   \n",
       "\n",
       "                                                text    hashtags  \n",
       "0  @TulsiGabbard the biological essentialism of T...          []  \n",
       "1  mighty funny how nobody in black sports media ...          []  \n",
       "2  Tht time I was put in a gc full of barstool sp...          []  \n",
       "3  mighty funny how nobody in black sports media ...          []  \n",
       "4  @DanSoder @katienolan that Andre AD read made ...  ['sports']  "
      ]
     },
     "execution_count": 245,
     "metadata": {},
     "output_type": "execute_result"
    }
   ],
   "source": [
    "#Jusq'au la on a reussi a collecter deux datasets,Je vais les concatiner et l'enregister dans un seul fichier CSV\n",
    "df_final=pd.concat([df, df_1], ignore_index=True)\n",
    "print(df_final.shape) \n",
    "df_final.head()"
   ]
  },
  {
   "cell_type": "code",
   "execution_count": 246,
   "metadata": {},
   "outputs": [
    {
     "name": "stdout",
     "output_type": "stream",
     "text": [
      "<class 'pandas.core.frame.DataFrame'>\n",
      "RangeIndex: 4985 entries, 0 to 4984\n",
      "Data columns (total 10 columns):\n",
      "Unnamed: 0      4985 non-null int64\n",
      "username        4985 non-null object\n",
      "description     4511 non-null object\n",
      "location        3465 non-null object\n",
      "following       4985 non-null int64\n",
      "followers       4985 non-null int64\n",
      "totaltweets     4985 non-null int64\n",
      "retweetcount    4985 non-null int64\n",
      "text            4985 non-null object\n",
      "hashtags        4985 non-null object\n",
      "dtypes: int64(5), object(5)\n",
      "memory usage: 389.5+ KB\n"
     ]
    }
   ],
   "source": [
    "df_final.info()"
   ]
  },
  {
   "cell_type": "code",
   "execution_count": 247,
   "metadata": {},
   "outputs": [
    {
     "data": {
      "text/html": [
       "<div>\n",
       "<style scoped>\n",
       "    .dataframe tbody tr th:only-of-type {\n",
       "        vertical-align: middle;\n",
       "    }\n",
       "\n",
       "    .dataframe tbody tr th {\n",
       "        vertical-align: top;\n",
       "    }\n",
       "\n",
       "    .dataframe thead th {\n",
       "        text-align: right;\n",
       "    }\n",
       "</style>\n",
       "<table border=\"1\" class=\"dataframe\">\n",
       "  <thead>\n",
       "    <tr style=\"text-align: right;\">\n",
       "      <th></th>\n",
       "      <th>text</th>\n",
       "    </tr>\n",
       "  </thead>\n",
       "  <tbody>\n",
       "    <tr>\n",
       "      <th>0</th>\n",
       "      <td>@TulsiGabbard the biological essentialism of T...</td>\n",
       "    </tr>\n",
       "    <tr>\n",
       "      <th>1</th>\n",
       "      <td>mighty funny how nobody in black sports media ...</td>\n",
       "    </tr>\n",
       "    <tr>\n",
       "      <th>2</th>\n",
       "      <td>Tht time I was put in a gc full of barstool sp...</td>\n",
       "    </tr>\n",
       "    <tr>\n",
       "      <th>3</th>\n",
       "      <td>mighty funny how nobody in black sports media ...</td>\n",
       "    </tr>\n",
       "    <tr>\n",
       "      <th>4</th>\n",
       "      <td>@DanSoder @katienolan that Andre AD read made ...</td>\n",
       "    </tr>\n",
       "    <tr>\n",
       "      <th>5</th>\n",
       "      <td>@oCHiCAx I agree. I believe in trans rights 2 ...</td>\n",
       "    </tr>\n",
       "    <tr>\n",
       "      <th>6</th>\n",
       "      <td>constantly making fun of the wnba and women's ...</td>\n",
       "    </tr>\n",
       "    <tr>\n",
       "      <th>7</th>\n",
       "      <td>Funny how things come full circle, @EmilyJones...</td>\n",
       "    </tr>\n",
       "    <tr>\n",
       "      <th>8</th>\n",
       "      <td>constantly making fun of the wnba and women's ...</td>\n",
       "    </tr>\n",
       "    <tr>\n",
       "      <th>9</th>\n",
       "      <td>Winter sports are funny, especially when you’r...</td>\n",
       "    </tr>\n",
       "  </tbody>\n",
       "</table>\n",
       "</div>"
      ],
      "text/plain": [
       "                                                text\n",
       "0  @TulsiGabbard the biological essentialism of T...\n",
       "1  mighty funny how nobody in black sports media ...\n",
       "2  Tht time I was put in a gc full of barstool sp...\n",
       "3  mighty funny how nobody in black sports media ...\n",
       "4  @DanSoder @katienolan that Andre AD read made ...\n",
       "5  @oCHiCAx I agree. I believe in trans rights 2 ...\n",
       "6  constantly making fun of the wnba and women's ...\n",
       "7  Funny how things come full circle, @EmilyJones...\n",
       "8  constantly making fun of the wnba and women's ...\n",
       "9  Winter sports are funny, especially when you’r..."
      ]
     },
     "execution_count": 247,
     "metadata": {},
     "output_type": "execute_result"
    }
   ],
   "source": [
    "to_drop = ['Unnamed: 0', 'username', 'description', 'location', 'following', 'followers', 'totaltweets', 'retweetcount', 'hashtags']\n",
    "#Eliminer les colonnes dans la liste de to_drop du dataframe df \n",
    "df_final.drop(to_drop, inplace=True, axis=1)\n",
    "#Afficherle résultat \n",
    "df_final.head(10)"
   ]
  },
  {
   "cell_type": "code",
   "execution_count": 248,
   "metadata": {},
   "outputs": [
    {
     "data": {
      "text/html": [
       "<div>\n",
       "<style scoped>\n",
       "    .dataframe tbody tr th:only-of-type {\n",
       "        vertical-align: middle;\n",
       "    }\n",
       "\n",
       "    .dataframe tbody tr th {\n",
       "        vertical-align: top;\n",
       "    }\n",
       "\n",
       "    .dataframe thead th {\n",
       "        text-align: right;\n",
       "    }\n",
       "</style>\n",
       "<table border=\"1\" class=\"dataframe\">\n",
       "  <thead>\n",
       "    <tr style=\"text-align: right;\">\n",
       "      <th></th>\n",
       "      <th>text</th>\n",
       "    </tr>\n",
       "  </thead>\n",
       "  <tbody>\n",
       "    <tr>\n",
       "      <th>0</th>\n",
       "      <td>biological essentialism terfs funny because ap...</td>\n",
       "    </tr>\n",
       "    <tr>\n",
       "      <th>1</th>\n",
       "      <td>mighty funny nobody black sports media standin...</td>\n",
       "    </tr>\n",
       "    <tr>\n",
       "      <th>2</th>\n",
       "      <td>time full barstool sports type \"funny\" account...</td>\n",
       "    </tr>\n",
       "    <tr>\n",
       "      <th>3</th>\n",
       "      <td>mighty funny nobody black sports media standin...</td>\n",
       "    </tr>\n",
       "    <tr>\n",
       "      <th>4</th>\n",
       "      <td>that andre read made swerve funny sports?</td>\n",
       "    </tr>\n",
       "  </tbody>\n",
       "</table>\n",
       "</div>"
      ],
      "text/plain": [
       "                                                text\n",
       "0  biological essentialism terfs funny because ap...\n",
       "1  mighty funny nobody black sports media standin...\n",
       "2  time full barstool sports type \"funny\" account...\n",
       "3  mighty funny nobody black sports media standin...\n",
       "4          that andre read made swerve funny sports?"
      ]
     },
     "execution_count": 248,
     "metadata": {},
     "output_type": "execute_result"
    }
   ],
   "source": [
    "import nltk\n",
    "import numpy as np\n",
    "import warnings \n",
    "def standardize_text(df, text_field):\n",
    "    df_final[text_field] = df_final[text_field].str.replace(r\"http\\S+\", \"\")\n",
    "    df_final[text_field] = df_final[text_field].str.replace(r\"http\", \"\")\n",
    "    df_final[text_field] = df_final[text_field].str.replace(r\"@\\S+\", \"\")\n",
    "    df_final[text_field] = df_final[text_field].str.replace(r\"[^A-Za-z0-9(),!?@\\'\\`\\\"\\_\\n]\", \" \")\n",
    "    df_final[text_field] = df_final[text_field].str.replace(r\"@\", \"at\")\n",
    "    df_final[text_field] = df_final[text_field].str.lower()\n",
    "    return df_final\n",
    "\n",
    "questions = standardize_text(df_final, \"text\")\n",
    "questions['text']= questions['text'].apply(lambda x: ' '.join([w for w in x.split() if len(w)>3]))\n",
    "questions.head()"
   ]
  },
  {
   "cell_type": "code",
   "execution_count": 249,
   "metadata": {},
   "outputs": [
    {
     "data": {
      "text/html": [
       "<div>\n",
       "<style scoped>\n",
       "    .dataframe tbody tr th:only-of-type {\n",
       "        vertical-align: middle;\n",
       "    }\n",
       "\n",
       "    .dataframe tbody tr th {\n",
       "        vertical-align: top;\n",
       "    }\n",
       "\n",
       "    .dataframe thead th {\n",
       "        text-align: right;\n",
       "    }\n",
       "</style>\n",
       "<table border=\"1\" class=\"dataframe\">\n",
       "  <thead>\n",
       "    <tr style=\"text-align: right;\">\n",
       "      <th></th>\n",
       "      <th>text</th>\n",
       "    </tr>\n",
       "  </thead>\n",
       "  <tbody>\n",
       "    <tr>\n",
       "      <th>0</th>\n",
       "      <td>biological essentialism terfs funny because ap...</td>\n",
       "    </tr>\n",
       "    <tr>\n",
       "      <th>1</th>\n",
       "      <td>mighty funny nobody black sports media standin...</td>\n",
       "    </tr>\n",
       "    <tr>\n",
       "      <th>2</th>\n",
       "      <td>time full barstool sports type \"funny\" account...</td>\n",
       "    </tr>\n",
       "    <tr>\n",
       "      <th>3</th>\n",
       "      <td>mighty funny nobody black sports media standin...</td>\n",
       "    </tr>\n",
       "    <tr>\n",
       "      <th>4</th>\n",
       "      <td>that andre read made swerve funny sports?</td>\n",
       "    </tr>\n",
       "  </tbody>\n",
       "</table>\n",
       "</div>"
      ],
      "text/plain": [
       "                                                text\n",
       "0  biological essentialism terfs funny because ap...\n",
       "1  mighty funny nobody black sports media standin...\n",
       "2  time full barstool sports type \"funny\" account...\n",
       "3  mighty funny nobody black sports media standin...\n",
       "4          that andre read made swerve funny sports?"
      ]
     },
     "execution_count": 249,
     "metadata": {},
     "output_type": "execute_result"
    }
   ],
   "source": [
    "questions.head()"
   ]
  },
  {
   "cell_type": "code",
   "execution_count": 250,
   "metadata": {},
   "outputs": [
    {
     "data": {
      "text/html": [
       "<div>\n",
       "<style scoped>\n",
       "    .dataframe tbody tr th:only-of-type {\n",
       "        vertical-align: middle;\n",
       "    }\n",
       "\n",
       "    .dataframe tbody tr th {\n",
       "        vertical-align: top;\n",
       "    }\n",
       "\n",
       "    .dataframe thead th {\n",
       "        text-align: right;\n",
       "    }\n",
       "</style>\n",
       "<table border=\"1\" class=\"dataframe\">\n",
       "  <thead>\n",
       "    <tr style=\"text-align: right;\">\n",
       "      <th></th>\n",
       "      <th>text</th>\n",
       "    </tr>\n",
       "  </thead>\n",
       "  <tbody>\n",
       "    <tr>\n",
       "      <th>0</th>\n",
       "      <td>biological essentialism terfs funny because ap...</td>\n",
       "    </tr>\n",
       "    <tr>\n",
       "      <th>1</th>\n",
       "      <td>mighty funny nobody black sports media standin...</td>\n",
       "    </tr>\n",
       "    <tr>\n",
       "      <th>2</th>\n",
       "      <td>time full barstool sports type \"funny\" account...</td>\n",
       "    </tr>\n",
       "    <tr>\n",
       "      <th>3</th>\n",
       "      <td>mighty funny nobody black sports media standin...</td>\n",
       "    </tr>\n",
       "    <tr>\n",
       "      <th>4</th>\n",
       "      <td>that andre read made swerve funny sports?</td>\n",
       "    </tr>\n",
       "  </tbody>\n",
       "</table>\n",
       "</div>"
      ],
      "text/plain": [
       "                                                text\n",
       "0  biological essentialism terfs funny because ap...\n",
       "1  mighty funny nobody black sports media standin...\n",
       "2  time full barstool sports type \"funny\" account...\n",
       "3  mighty funny nobody black sports media standin...\n",
       "4          that andre read made swerve funny sports?"
      ]
     },
     "execution_count": 250,
     "metadata": {},
     "output_type": "execute_result"
    }
   ],
   "source": [
    "questions.to_csv(\"clean_data.csv\")\n",
    "questions.head()\n",
    "\n",
    "    \n"
   ]
  },
  {
   "cell_type": "code",
   "execution_count": 251,
   "metadata": {},
   "outputs": [
    {
     "name": "stderr",
     "output_type": "stream",
     "text": [
      "[nltk_data] Downloading package stopwords to /home/ubunto/nltk_data...\n",
      "[nltk_data]   Package stopwords is already up-to-date!\n"
     ]
    },
    {
     "data": {
      "text/plain": [
       "True"
      ]
     },
     "execution_count": 251,
     "metadata": {},
     "output_type": "execute_result"
    }
   ],
   "source": [
    "import nltk \n",
    "nltk.download('stopwords' )"
   ]
  },
  {
   "cell_type": "code",
   "execution_count": 252,
   "metadata": {},
   "outputs": [
    {
     "name": "stdout",
     "output_type": "stream",
     "text": [
      "{\"mightn't\", 'few', \"didn't\", 'hasn', 'but', 'them', 'some', 'he', 'doing', 'my', 'she', 'whom', 'her', 'himself', 'these', 'because', 'of', 'ourselves', 'is', 'didn', 'hadn', 'both', \"that'll\", 'll', 'through', 'too', \"should've\", 'yourselves', 'what', \"haven't\", \"wouldn't\", 'our', 'where', 'did', 'after', 'shouldn', 'with', 'o', 'a', \"it's\", 'only', 're', 'those', 'there', \"needn't\", 'that', 'if', 'aren', 'his', 'this', 'any', 'you', 'being', 'not', 'off', 'other', 'up', 'd', 't', 'or', 'until', 'again', 'now', 's', \"hadn't\", 'weren', \"couldn't\", 'can', \"won't\", 'before', 'about', 'further', 'ma', \"doesn't\", 'y', 'it', \"you're\", 'were', 'at', 'needn', \"weren't\", 'for', 'mightn', 'above', 'your', 'all', \"isn't\", 'had', 'me', 'each', 'are', 'here', 'below', \"you'd\", 'hers', 'which', 'does', 'during', 'down', 'how', 'into', 'the', 'nor', 'i', 'by', 'why', 'under', 'an', 'yourself', 'be', 'won', 'don', 'then', 'most', 'myself', 'when', 'theirs', 'yours', \"you'll\", 'and', \"shan't\", \"you've\", 'been', 'should', 'themselves', 'm', 'their', 'herself', 'they', 'over', 'very', 've', 'doesn', 'than', 'mustn', 'wasn', 'own', 'wouldn', 'no', 'was', 'haven', \"shouldn't\", 'itself', 'do', 'from', 'such', 'we', 'couldn', 'shan', 'ours', 'who', 'on', \"she's\", 'more', 'will', 'in', 'am', 'between', \"hasn't\", 'as', 'while', \"aren't\", 'once', 'just', 'against', 'to', 'him', 'out', 'having', \"wasn't\", 'ain', 'its', 'have', 'same', \"don't\", 'has', \"mustn't\", 'so', 'isn'}\n"
     ]
    }
   ],
   "source": [
    "from nltk.corpus import stopwords\n",
    "stop_words=set(stopwords.words(\"english\"))\n",
    "print(stop_words)\n"
   ]
  },
  {
   "cell_type": "code",
   "execution_count": 253,
   "metadata": {},
   "outputs": [
    {
     "name": "stdout",
     "output_type": "stream",
     "text": [
      "shape  (4985, 2)\n"
     ]
    },
    {
     "data": {
      "text/html": [
       "<div>\n",
       "<style scoped>\n",
       "    .dataframe tbody tr th:only-of-type {\n",
       "        vertical-align: middle;\n",
       "    }\n",
       "\n",
       "    .dataframe tbody tr th {\n",
       "        vertical-align: top;\n",
       "    }\n",
       "\n",
       "    .dataframe thead th {\n",
       "        text-align: right;\n",
       "    }\n",
       "</style>\n",
       "<table border=\"1\" class=\"dataframe\">\n",
       "  <thead>\n",
       "    <tr style=\"text-align: right;\">\n",
       "      <th></th>\n",
       "      <th>Unnamed: 0</th>\n",
       "      <th>text</th>\n",
       "    </tr>\n",
       "  </thead>\n",
       "  <tbody>\n",
       "    <tr>\n",
       "      <th>0</th>\n",
       "      <td>0</td>\n",
       "      <td>biological essentialism terfs funny because ap...</td>\n",
       "    </tr>\n",
       "    <tr>\n",
       "      <th>1</th>\n",
       "      <td>1</td>\n",
       "      <td>mighty funny nobody black sports media standin...</td>\n",
       "    </tr>\n",
       "    <tr>\n",
       "      <th>2</th>\n",
       "      <td>2</td>\n",
       "      <td>time full barstool sports type \"funny\" account...</td>\n",
       "    </tr>\n",
       "    <tr>\n",
       "      <th>3</th>\n",
       "      <td>3</td>\n",
       "      <td>mighty funny nobody black sports media standin...</td>\n",
       "    </tr>\n",
       "    <tr>\n",
       "      <th>4</th>\n",
       "      <td>4</td>\n",
       "      <td>that andre read made swerve funny sports?</td>\n",
       "    </tr>\n",
       "  </tbody>\n",
       "</table>\n",
       "</div>"
      ],
      "text/plain": [
       "   Unnamed: 0                                               text\n",
       "0           0  biological essentialism terfs funny because ap...\n",
       "1           1  mighty funny nobody black sports media standin...\n",
       "2           2  time full barstool sports type \"funny\" account...\n",
       "3           3  mighty funny nobody black sports media standin...\n",
       "4           4          that andre read made swerve funny sports?"
      ]
     },
     "execution_count": 253,
     "metadata": {},
     "output_type": "execute_result"
    }
   ],
   "source": [
    "clean_questions = pd.read_csv('clean_data.csv')\n",
    "# Affichage de la taille du dataset (n_lignes and n_colonnes)\n",
    "print(\"shape \", clean_questions.shape)\n",
    "clean_questions.head()"
   ]
  },
  {
   "cell_type": "code",
   "execution_count": 254,
   "metadata": {},
   "outputs": [
    {
     "data": {
      "text/html": [
       "<div>\n",
       "<style scoped>\n",
       "    .dataframe tbody tr th:only-of-type {\n",
       "        vertical-align: middle;\n",
       "    }\n",
       "\n",
       "    .dataframe tbody tr th {\n",
       "        vertical-align: top;\n",
       "    }\n",
       "\n",
       "    .dataframe thead th {\n",
       "        text-align: right;\n",
       "    }\n",
       "</style>\n",
       "<table border=\"1\" class=\"dataframe\">\n",
       "  <thead>\n",
       "    <tr style=\"text-align: right;\">\n",
       "      <th></th>\n",
       "      <th>Unnamed: 0</th>\n",
       "      <th>text</th>\n",
       "      <th>tokens</th>\n",
       "    </tr>\n",
       "  </thead>\n",
       "  <tbody>\n",
       "    <tr>\n",
       "      <th>0</th>\n",
       "      <td>0</td>\n",
       "      <td>biological essentialism terfs funny because ap...</td>\n",
       "      <td>[biological, essentialism, terfs, funny, becau...</td>\n",
       "    </tr>\n",
       "    <tr>\n",
       "      <th>1</th>\n",
       "      <td>1</td>\n",
       "      <td>mighty funny nobody black sports media standin...</td>\n",
       "      <td>[mighty, funny, nobody, black, sports, media, ...</td>\n",
       "    </tr>\n",
       "    <tr>\n",
       "      <th>2</th>\n",
       "      <td>2</td>\n",
       "      <td>time full barstool sports type \"funny\" account...</td>\n",
       "      <td>[time, full, barstool, sports, type, funny, ac...</td>\n",
       "    </tr>\n",
       "    <tr>\n",
       "      <th>3</th>\n",
       "      <td>3</td>\n",
       "      <td>mighty funny nobody black sports media standin...</td>\n",
       "      <td>[mighty, funny, nobody, black, sports, media, ...</td>\n",
       "    </tr>\n",
       "    <tr>\n",
       "      <th>4</th>\n",
       "      <td>4</td>\n",
       "      <td>that andre read made swerve funny sports?</td>\n",
       "      <td>[that, andre, read, made, swerve, funny, sports]</td>\n",
       "    </tr>\n",
       "  </tbody>\n",
       "</table>\n",
       "</div>"
      ],
      "text/plain": [
       "   Unnamed: 0                                               text  \\\n",
       "0           0  biological essentialism terfs funny because ap...   \n",
       "1           1  mighty funny nobody black sports media standin...   \n",
       "2           2  time full barstool sports type \"funny\" account...   \n",
       "3           3  mighty funny nobody black sports media standin...   \n",
       "4           4          that andre read made swerve funny sports?   \n",
       "\n",
       "                                              tokens  \n",
       "0  [biological, essentialism, terfs, funny, becau...  \n",
       "1  [mighty, funny, nobody, black, sports, media, ...  \n",
       "2  [time, full, barstool, sports, type, funny, ac...  \n",
       "3  [mighty, funny, nobody, black, sports, media, ...  \n",
       "4   [that, andre, read, made, swerve, funny, sports]  "
      ]
     },
     "execution_count": 254,
     "metadata": {},
     "output_type": "execute_result"
    }
   ],
   "source": [
    "from nltk.tokenize import RegexpTokenizer\n",
    "\n",
    "tokenizer = RegexpTokenizer(r'\\w+')\n",
    "clean_questions[\"text\"].dropna(inplace=True)\n",
    "clean_questions[\"tokens\"] = clean_questions[\"text\"].apply(tokenizer.tokenize)\n",
    "clean_questions.head()"
   ]
  },
  {
   "cell_type": "code",
   "execution_count": 255,
   "metadata": {},
   "outputs": [
    {
     "name": "stdout",
     "output_type": "stream",
     "text": [
      "<class 'pandas.core.frame.DataFrame'>\n",
      "RangeIndex: 4985 entries, 0 to 4984\n",
      "Data columns (total 3 columns):\n",
      "Unnamed: 0    4985 non-null int64\n",
      "text          4983 non-null object\n",
      "tokens        4983 non-null object\n",
      "dtypes: int64(1), object(2)\n",
      "memory usage: 116.9+ KB\n"
     ]
    }
   ],
   "source": [
    "clean_questions.info()"
   ]
  },
  {
   "cell_type": "code",
   "execution_count": 256,
   "metadata": {},
   "outputs": [
    {
     "data": {
      "text/html": [
       "<div>\n",
       "<style scoped>\n",
       "    .dataframe tbody tr th:only-of-type {\n",
       "        vertical-align: middle;\n",
       "    }\n",
       "\n",
       "    .dataframe tbody tr th {\n",
       "        vertical-align: top;\n",
       "    }\n",
       "\n",
       "    .dataframe thead th {\n",
       "        text-align: right;\n",
       "    }\n",
       "</style>\n",
       "<table border=\"1\" class=\"dataframe\">\n",
       "  <thead>\n",
       "    <tr style=\"text-align: right;\">\n",
       "      <th></th>\n",
       "      <th>Unnamed: 0</th>\n",
       "      <th>text</th>\n",
       "      <th>tokens</th>\n",
       "    </tr>\n",
       "  </thead>\n",
       "  <tbody>\n",
       "    <tr>\n",
       "      <th>0</th>\n",
       "      <td>0</td>\n",
       "      <td>biological essentialism terfs funny because ap...</td>\n",
       "      <td>[biolog, essenti, terf, funni, becaus, appar, ...</td>\n",
       "    </tr>\n",
       "    <tr>\n",
       "      <th>1</th>\n",
       "      <td>1</td>\n",
       "      <td>mighty funny nobody black sports media standin...</td>\n",
       "      <td>[mighti, funni, nobodi, black, sport, media, s...</td>\n",
       "    </tr>\n",
       "    <tr>\n",
       "      <th>2</th>\n",
       "      <td>2</td>\n",
       "      <td>time full barstool sports type \"funny\" account...</td>\n",
       "      <td>[time, full, barstool, sport, type, funni, acc...</td>\n",
       "    </tr>\n",
       "    <tr>\n",
       "      <th>3</th>\n",
       "      <td>3</td>\n",
       "      <td>mighty funny nobody black sports media standin...</td>\n",
       "      <td>[mighti, funni, nobodi, black, sport, media, s...</td>\n",
       "    </tr>\n",
       "    <tr>\n",
       "      <th>4</th>\n",
       "      <td>4</td>\n",
       "      <td>that andre read made swerve funny sports?</td>\n",
       "      <td>[that, andr, read, made, swerv, funni, sport]</td>\n",
       "    </tr>\n",
       "  </tbody>\n",
       "</table>\n",
       "</div>"
      ],
      "text/plain": [
       "   Unnamed: 0                                               text  \\\n",
       "0           0  biological essentialism terfs funny because ap...   \n",
       "1           1  mighty funny nobody black sports media standin...   \n",
       "2           2  time full barstool sports type \"funny\" account...   \n",
       "3           3  mighty funny nobody black sports media standin...   \n",
       "4           4          that andre read made swerve funny sports?   \n",
       "\n",
       "                                              tokens  \n",
       "0  [biolog, essenti, terf, funni, becaus, appar, ...  \n",
       "1  [mighti, funni, nobodi, black, sport, media, s...  \n",
       "2  [time, full, barstool, sport, type, funni, acc...  \n",
       "3  [mighti, funni, nobodi, black, sport, media, s...  \n",
       "4      [that, andr, read, made, swerv, funni, sport]  "
      ]
     },
     "execution_count": 256,
     "metadata": {},
     "output_type": "execute_result"
    }
   ],
   "source": [
    "from nltk.stem.porter import *\n",
    "stemmer = PorterStemmer()\n",
    "\n",
    "clean_questions[\"tokens\"]=clean_questions[\"tokens\"].dropna().apply(lambda x: [stemmer.stem(i) for i in x]) # stemming\n",
    "clean_questions.head()"
   ]
  },
  {
   "cell_type": "code",
   "execution_count": 257,
   "metadata": {},
   "outputs": [
    {
     "data": {
      "text/html": [
       "<div>\n",
       "<style scoped>\n",
       "    .dataframe tbody tr th:only-of-type {\n",
       "        vertical-align: middle;\n",
       "    }\n",
       "\n",
       "    .dataframe tbody tr th {\n",
       "        vertical-align: top;\n",
       "    }\n",
       "\n",
       "    .dataframe thead th {\n",
       "        text-align: right;\n",
       "    }\n",
       "</style>\n",
       "<table border=\"1\" class=\"dataframe\">\n",
       "  <thead>\n",
       "    <tr style=\"text-align: right;\">\n",
       "      <th></th>\n",
       "      <th>Unnamed: 0</th>\n",
       "      <th>text</th>\n",
       "      <th>tokens</th>\n",
       "    </tr>\n",
       "  </thead>\n",
       "  <tbody>\n",
       "    <tr>\n",
       "      <th>0</th>\n",
       "      <td>0</td>\n",
       "      <td>biological essentialism terfs funny because ap...</td>\n",
       "      <td>[biolog, essenti, terf, funni, becaus, appar, ...</td>\n",
       "    </tr>\n",
       "    <tr>\n",
       "      <th>1</th>\n",
       "      <td>1</td>\n",
       "      <td>mighty funny nobody black sports media standin...</td>\n",
       "      <td>[mighti, funni, nobodi, black, sport, media, s...</td>\n",
       "    </tr>\n",
       "    <tr>\n",
       "      <th>2</th>\n",
       "      <td>2</td>\n",
       "      <td>time full barstool sports type \"funny\" account...</td>\n",
       "      <td>[time, full, barstool, sport, type, funni, acc...</td>\n",
       "    </tr>\n",
       "    <tr>\n",
       "      <th>3</th>\n",
       "      <td>3</td>\n",
       "      <td>mighty funny nobody black sports media standin...</td>\n",
       "      <td>[mighti, funni, nobodi, black, sport, media, s...</td>\n",
       "    </tr>\n",
       "    <tr>\n",
       "      <th>4</th>\n",
       "      <td>4</td>\n",
       "      <td>that andre read made swerve funny sports?</td>\n",
       "      <td>[that, andr, read, made, swerv, funni, sport]</td>\n",
       "    </tr>\n",
       "  </tbody>\n",
       "</table>\n",
       "</div>"
      ],
      "text/plain": [
       "   Unnamed: 0                                               text  \\\n",
       "0           0  biological essentialism terfs funny because ap...   \n",
       "1           1  mighty funny nobody black sports media standin...   \n",
       "2           2  time full barstool sports type \"funny\" account...   \n",
       "3           3  mighty funny nobody black sports media standin...   \n",
       "4           4          that andre read made swerve funny sports?   \n",
       "\n",
       "                                              tokens  \n",
       "0  [biolog, essenti, terf, funni, becaus, appar, ...  \n",
       "1  [mighti, funni, nobodi, black, sport, media, s...  \n",
       "2  [time, full, barstool, sport, type, funni, acc...  \n",
       "3  [mighti, funni, nobodi, black, sport, media, s...  \n",
       "4      [that, andr, read, made, swerv, funni, sport]  "
      ]
     },
     "execution_count": 257,
     "metadata": {},
     "output_type": "execute_result"
    }
   ],
   "source": [
    "clean_questions.head()"
   ]
  },
  {
   "cell_type": "code",
   "execution_count": 259,
   "metadata": {},
   "outputs": [
    {
     "name": "stdout",
     "output_type": "stream",
     "text": [
      "  (0, 956)\t2\n",
      "  (0, 2927)\t1\n",
      "  (0, 8476)\t1\n",
      "  (0, 3494)\t1\n",
      "  (0, 842)\t1\n",
      "  (0, 507)\t1\n",
      "  (0, 9183)\t1\n",
      "  (0, 2899)\t1\n",
      "  (0, 4445)\t1\n",
      "  (0, 5571)\t1\n",
      "  (0, 8627)\t1\n",
      "  (0, 9565)\t2\n",
      "  (0, 6860)\t2\n",
      "  (0, 4409)\t1\n",
      "  (0, 8911)\t1\n",
      "  (0, 1788)\t1\n",
      "  (0, 9425)\t1\n",
      "  (0, 5426)\t1\n",
      "  (0, 5370)\t1\n",
      "  (0, 4722)\t1\n",
      "  (0, 3730)\t1\n",
      "  (0, 7993)\t1\n",
      "  (0, 1173)\t1\n",
      "  (1, 3494)\t1\n",
      "  (1, 9425)\t1\n",
      "  :\t:\n",
      "  (4983, 5250)\t1\n",
      "  (4983, 8088)\t1\n",
      "  (4983, 5669)\t1\n",
      "  (4983, 4044)\t1\n",
      "  (4983, 8819)\t1\n",
      "  (4983, 2620)\t1\n",
      "  (4983, 3690)\t1\n",
      "  (4983, 689)\t1\n",
      "  (4983, 1940)\t1\n",
      "  (4983, 4007)\t1\n",
      "  (4983, 3769)\t1\n",
      "  (4983, 6861)\t1\n",
      "  (4983, 2591)\t1\n",
      "  (4983, 2390)\t1\n",
      "  (4983, 1900)\t1\n",
      "  (4983, 1938)\t1\n",
      "  (4983, 5359)\t1\n",
      "  (4984, 4722)\t1\n",
      "  (4984, 2919)\t1\n",
      "  (4984, 8375)\t1\n",
      "  (4984, 152)\t1\n",
      "  (4984, 9217)\t1\n",
      "  (4984, 5669)\t1\n",
      "  (4984, 4654)\t1\n",
      "  (4984, 4256)\t1\n"
     ]
    }
   ],
   "source": [
    "#from sklearn.feature_extraction.text import TfidfVectorizer \n",
    "#tfidf_vectorizer = TfidfVectorizer(max_df=0.90, min_df=2, max_features=1000, stop_words='english')\n",
    "## TF-IDF feature matrix \n",
    "#tfidf = tfidf_vectorizer.fit_transform(questions[\"text\"])\n",
    "#print(tfidf)\n",
    "from sklearn.feature_extraction.text import CountVectorizer\n",
    "cv = CountVectorizer()\n",
    "X=cv.fit_transform(questions[\"text\"])\n",
    "print(X)"
   ]
  },
  {
   "cell_type": "markdown",
   "metadata": {},
   "source": [
    "## Classification des tweets\n"
   ]
  },
  {
   "cell_type": "code",
   "execution_count": 268,
   "metadata": {},
   "outputs": [],
   "source": [
    "from sklearn.cluster import KMeans\n",
    "wcss = []"
   ]
  },
  {
   "cell_type": "code",
   "execution_count": 269,
   "metadata": {},
   "outputs": [],
   "source": [
    "for i in range(3, 30):\n",
    "    kmeans = KMeans(n_clusters=i, init='k-means++', n_init=10, max_iter=300, random_state=0)\n",
    "    kmeans.fit(X)\n",
    "    wcss.append(kmeans.inertia_)"
   ]
  },
  {
   "cell_type": "code",
   "execution_count": 270,
   "metadata": {},
   "outputs": [
    {
     "data": {
      "image/png": "[encoded data removed]",
      "text/plain": [
       "<Figure size 432x288 with 1 Axes>"
      ]
     },
     "metadata": {
      "needs_background": "light"
     },
     "output_type": "display_data"
    }
   ],
   "source": [
    "plt.plot(range(3,30), wcss)\n",
    "plt.title('Elbow Method')\n",
    "plt.xlabel('Number of Clusters')\n",
    "plt.ylabel('wcss')\n",
    "plt.show()"
   ]
  },
  {
   "cell_type": "code",
   "execution_count": 295,
   "metadata": {},
   "outputs": [
    {
     "ename": "AttributeError",
     "evalue": "'numpy.ndarray' object has no attribute 'labels_'",
     "output_type": "error",
     "traceback": [
      "\u001b[0;31m---------------------------------------------------------------------------\u001b[0m",
      "\u001b[0;31mAttributeError\u001b[0m                            Traceback (most recent call last)",
      "\u001b[0;32m<ipython-input-295-fd505e5ced91>\u001b[0m in \u001b[0;36m<module>\u001b[0;34m\u001b[0m\n\u001b[1;32m      4\u001b[0m \u001b[0mY_kmeans\u001b[0m\u001b[0;34m=\u001b[0m\u001b[0mkmeans\u001b[0m\u001b[0;34m.\u001b[0m\u001b[0mfit_predict\u001b[0m\u001b[0;34m(\u001b[0m\u001b[0mX\u001b[0m\u001b[0;34m)\u001b[0m\u001b[0;34m\u001b[0m\u001b[0;34m\u001b[0m\u001b[0m\n\u001b[1;32m      5\u001b[0m \u001b[0mplt\u001b[0m\u001b[0;34m.\u001b[0m\u001b[0msubplot\u001b[0m\u001b[0;34m(\u001b[0m\u001b[0;36m221\u001b[0m\u001b[0;34m)\u001b[0m\u001b[0;34m\u001b[0m\u001b[0;34m\u001b[0m\u001b[0m\n\u001b[0;32m----> 6\u001b[0;31m \u001b[0mplt\u001b[0m\u001b[0;34m.\u001b[0m\u001b[0mscatter\u001b[0m\u001b[0;34m(\u001b[0m\u001b[0mX\u001b[0m\u001b[0;34m[\u001b[0m\u001b[0;34m:\u001b[0m\u001b[0;34m,\u001b[0m \u001b[0;36m0\u001b[0m\u001b[0;34m]\u001b[0m\u001b[0;34m,\u001b[0m \u001b[0mX\u001b[0m\u001b[0;34m[\u001b[0m\u001b[0;34m:\u001b[0m\u001b[0;34m,\u001b[0m \u001b[0;36m1\u001b[0m\u001b[0;34m]\u001b[0m\u001b[0;34m,\u001b[0m \u001b[0mc\u001b[0m\u001b[0;34m=\u001b[0m\u001b[0mY_kmeans\u001b[0m\u001b[0;34m.\u001b[0m\u001b[0mlabels_\u001b[0m\u001b[0;34m)\u001b[0m\u001b[0;34m\u001b[0m\u001b[0;34m\u001b[0m\u001b[0m\n\u001b[0m\u001b[1;32m      7\u001b[0m \u001b[0mplt\u001b[0m\u001b[0;34m.\u001b[0m\u001b[0mtitle\u001b[0m\u001b[0;34m(\u001b[0m\u001b[0;34m\"Incorrect Number of Blobs\"\u001b[0m\u001b[0;34m)\u001b[0m\u001b[0;34m\u001b[0m\u001b[0;34m\u001b[0m\u001b[0m\n",
      "\u001b[0;31mAttributeError\u001b[0m: 'numpy.ndarray' object has no attribute 'labels_'"
     ]
    },
    {
     "data": {
      "image/png": "[encoded data removed]",
      "text/plain": [
       "<Figure size 432x288 with 1 Axes>"
      ]
     },
     "metadata": {
      "needs_background": "light"
     },
     "output_type": "display_data"
    }
   ],
   "source": [
    "k = 3\n",
    "Kmeans=KMeans(n_clusters=k,init='k-means++',n_init=1)\n",
    "Kmeans.fit(X)\n",
    "Y_kmeans=kmeans.fit_predict(X)\n",
    "plt.subplot(221)\n",
    "plt.scatter(X[:, 0], X[:, 1], c=Y_kmeans.labels_)\n",
    "plt.title(\"Incorrect Number of Blobs\")"
   ]
  },
  {
   "cell_type": "code",
   "execution_count": 291,
   "metadata": {},
   "outputs": [
    {
     "ename": "ValueError",
     "evalue": "setting an array element with a sequence.",
     "output_type": "error",
     "traceback": [
      "\u001b[0;31m---------------------------------------------------------------------------\u001b[0m",
      "\u001b[0;31mValueError\u001b[0m                                Traceback (most recent call last)",
      "\u001b[0;32m<ipython-input-291-14e9f6e80a5c>\u001b[0m in \u001b[0;36m<module>\u001b[0;34m\u001b[0m\n\u001b[1;32m      1\u001b[0m \u001b[0;31m# Visualising the clusters\u001b[0m\u001b[0;34m\u001b[0m\u001b[0;34m\u001b[0m\u001b[0;34m\u001b[0m\u001b[0m\n\u001b[0;32m----> 2\u001b[0;31m \u001b[0mplt\u001b[0m\u001b[0;34m.\u001b[0m\u001b[0mscatter\u001b[0m\u001b[0;34m(\u001b[0m\u001b[0mX\u001b[0m\u001b[0;34m[\u001b[0m\u001b[0mY_kmeans\u001b[0m\u001b[0;34m==\u001b[0m\u001b[0;36m0\u001b[0m\u001b[0;34m,\u001b[0m \u001b[0;36m0\u001b[0m\u001b[0;34m]\u001b[0m\u001b[0;34m,\u001b[0m \u001b[0mX\u001b[0m\u001b[0;34m[\u001b[0m\u001b[0mY_kmeans\u001b[0m\u001b[0;34m==\u001b[0m\u001b[0;36m0\u001b[0m\u001b[0;34m,\u001b[0m \u001b[0;36m1\u001b[0m\u001b[0;34m]\u001b[0m\u001b[0;34m,\u001b[0m \u001b[0ms\u001b[0m\u001b[0;34m=\u001b[0m\u001b[0;36m70\u001b[0m\u001b[0;34m,\u001b[0m \u001b[0mc\u001b[0m\u001b[0;34m=\u001b[0m\u001b[0;34m'violet'\u001b[0m\u001b[0;34m,\u001b[0m \u001b[0mlabel\u001b[0m\u001b[0;34m=\u001b[0m \u001b[0;34m'Cluster 1'\u001b[0m\u001b[0;34m)\u001b[0m\u001b[0;34m\u001b[0m\u001b[0;34m\u001b[0m\u001b[0m\n\u001b[0m\u001b[1;32m      3\u001b[0m \u001b[0mplt\u001b[0m\u001b[0;34m.\u001b[0m\u001b[0mscatter\u001b[0m\u001b[0;34m(\u001b[0m\u001b[0mX\u001b[0m\u001b[0;34m[\u001b[0m\u001b[0mY_kmeans\u001b[0m\u001b[0;34m==\u001b[0m\u001b[0;36m1\u001b[0m\u001b[0;34m,\u001b[0m \u001b[0;36m0\u001b[0m\u001b[0;34m]\u001b[0m\u001b[0;34m,\u001b[0m \u001b[0mX\u001b[0m\u001b[0;34m[\u001b[0m\u001b[0mY_kmeans\u001b[0m\u001b[0;34m==\u001b[0m\u001b[0;36m1\u001b[0m\u001b[0;34m,\u001b[0m \u001b[0;36m1\u001b[0m\u001b[0;34m]\u001b[0m\u001b[0;34m,\u001b[0m \u001b[0ms\u001b[0m\u001b[0;34m=\u001b[0m\u001b[0;36m70\u001b[0m\u001b[0;34m,\u001b[0m \u001b[0mc\u001b[0m\u001b[0;34m=\u001b[0m\u001b[0;34m'cyan'\u001b[0m\u001b[0;34m,\u001b[0m \u001b[0mlabel\u001b[0m\u001b[0;34m=\u001b[0m \u001b[0;34m'Cluster 2'\u001b[0m\u001b[0;34m)\u001b[0m\u001b[0;34m\u001b[0m\u001b[0;34m\u001b[0m\u001b[0m\n\u001b[1;32m      4\u001b[0m \u001b[0mplt\u001b[0m\u001b[0;34m.\u001b[0m\u001b[0mscatter\u001b[0m\u001b[0;34m(\u001b[0m\u001b[0mX\u001b[0m\u001b[0;34m[\u001b[0m\u001b[0mY_kmeans\u001b[0m\u001b[0;34m==\u001b[0m\u001b[0;36m2\u001b[0m\u001b[0;34m,\u001b[0m \u001b[0;36m0\u001b[0m\u001b[0;34m]\u001b[0m\u001b[0;34m,\u001b[0m \u001b[0mX\u001b[0m\u001b[0;34m[\u001b[0m\u001b[0mY_kmeans\u001b[0m\u001b[0;34m==\u001b[0m\u001b[0;36m2\u001b[0m\u001b[0;34m,\u001b[0m \u001b[0;36m1\u001b[0m\u001b[0;34m]\u001b[0m\u001b[0;34m,\u001b[0m \u001b[0ms\u001b[0m\u001b[0;34m=\u001b[0m\u001b[0;36m70\u001b[0m\u001b[0;34m,\u001b[0m \u001b[0mc\u001b[0m\u001b[0;34m=\u001b[0m\u001b[0;34m'green'\u001b[0m\u001b[0;34m,\u001b[0m \u001b[0mlabel\u001b[0m\u001b[0;34m=\u001b[0m \u001b[0;34m'Cluster 3'\u001b[0m\u001b[0;34m)\u001b[0m\u001b[0;34m\u001b[0m\u001b[0;34m\u001b[0m\u001b[0m\n\u001b[1;32m      5\u001b[0m \u001b[0mplt\u001b[0m\u001b[0;34m.\u001b[0m\u001b[0mscatter\u001b[0m\u001b[0;34m(\u001b[0m\u001b[0mX\u001b[0m\u001b[0;34m[\u001b[0m\u001b[0mY_kmeans\u001b[0m\u001b[0;34m==\u001b[0m\u001b[0;36m3\u001b[0m\u001b[0;34m,\u001b[0m \u001b[0;36m0\u001b[0m\u001b[0;34m]\u001b[0m\u001b[0;34m,\u001b[0m \u001b[0mX\u001b[0m\u001b[0;34m[\u001b[0m\u001b[0mY_kmeans\u001b[0m\u001b[0;34m==\u001b[0m\u001b[0;36m3\u001b[0m\u001b[0;34m,\u001b[0m \u001b[0;36m1\u001b[0m\u001b[0;34m]\u001b[0m\u001b[0;34m,\u001b[0m \u001b[0ms\u001b[0m\u001b[0;34m=\u001b[0m\u001b[0;36m70\u001b[0m\u001b[0;34m,\u001b[0m \u001b[0mc\u001b[0m\u001b[0;34m=\u001b[0m\u001b[0;34m'blue'\u001b[0m\u001b[0;34m,\u001b[0m \u001b[0mlabel\u001b[0m\u001b[0;34m=\u001b[0m \u001b[0;34m'Cluster 4'\u001b[0m\u001b[0;34m)\u001b[0m\u001b[0;34m\u001b[0m\u001b[0;34m\u001b[0m\u001b[0m\n",
      "\u001b[0;32m~/anaconda3/lib/python3.7/site-packages/matplotlib/pyplot.py\u001b[0m in \u001b[0;36mscatter\u001b[0;34m(x, y, s, c, marker, cmap, norm, vmin, vmax, alpha, linewidths, verts, edgecolors, plotnonfinite, data, **kwargs)\u001b[0m\n\u001b[1;32m   2839\u001b[0m         \u001b[0mverts\u001b[0m\u001b[0;34m=\u001b[0m\u001b[0mverts\u001b[0m\u001b[0;34m,\u001b[0m \u001b[0medgecolors\u001b[0m\u001b[0;34m=\u001b[0m\u001b[0medgecolors\u001b[0m\u001b[0;34m,\u001b[0m\u001b[0;34m\u001b[0m\u001b[0;34m\u001b[0m\u001b[0m\n\u001b[1;32m   2840\u001b[0m         plotnonfinite=plotnonfinite, **({\"data\": data} if data is not\n\u001b[0;32m-> 2841\u001b[0;31m         None else {}), **kwargs)\n\u001b[0m\u001b[1;32m   2842\u001b[0m     \u001b[0msci\u001b[0m\u001b[0;34m(\u001b[0m\u001b[0m__ret\u001b[0m\u001b[0;34m)\u001b[0m\u001b[0;34m\u001b[0m\u001b[0;34m\u001b[0m\u001b[0m\n\u001b[1;32m   2843\u001b[0m     \u001b[0;32mreturn\u001b[0m \u001b[0m__ret\u001b[0m\u001b[0;34m\u001b[0m\u001b[0;34m\u001b[0m\u001b[0m\n",
      "\u001b[0;32m~/anaconda3/lib/python3.7/site-packages/matplotlib/__init__.py\u001b[0m in \u001b[0;36minner\u001b[0;34m(ax, data, *args, **kwargs)\u001b[0m\n\u001b[1;32m   1587\u001b[0m     \u001b[0;32mdef\u001b[0m \u001b[0minner\u001b[0m\u001b[0;34m(\u001b[0m\u001b[0max\u001b[0m\u001b[0;34m,\u001b[0m \u001b[0;34m*\u001b[0m\u001b[0margs\u001b[0m\u001b[0;34m,\u001b[0m \u001b[0mdata\u001b[0m\u001b[0;34m=\u001b[0m\u001b[0;32mNone\u001b[0m\u001b[0;34m,\u001b[0m \u001b[0;34m**\u001b[0m\u001b[0mkwargs\u001b[0m\u001b[0;34m)\u001b[0m\u001b[0;34m:\u001b[0m\u001b[0;34m\u001b[0m\u001b[0;34m\u001b[0m\u001b[0m\n\u001b[1;32m   1588\u001b[0m         \u001b[0;32mif\u001b[0m \u001b[0mdata\u001b[0m \u001b[0;32mis\u001b[0m \u001b[0;32mNone\u001b[0m\u001b[0;34m:\u001b[0m\u001b[0;34m\u001b[0m\u001b[0;34m\u001b[0m\u001b[0m\n\u001b[0;32m-> 1589\u001b[0;31m             \u001b[0;32mreturn\u001b[0m \u001b[0mfunc\u001b[0m\u001b[0;34m(\u001b[0m\u001b[0max\u001b[0m\u001b[0;34m,\u001b[0m \u001b[0;34m*\u001b[0m\u001b[0mmap\u001b[0m\u001b[0;34m(\u001b[0m\u001b[0msanitize_sequence\u001b[0m\u001b[0;34m,\u001b[0m \u001b[0margs\u001b[0m\u001b[0;34m)\u001b[0m\u001b[0;34m,\u001b[0m \u001b[0;34m**\u001b[0m\u001b[0mkwargs\u001b[0m\u001b[0;34m)\u001b[0m\u001b[0;34m\u001b[0m\u001b[0;34m\u001b[0m\u001b[0m\n\u001b[0m\u001b[1;32m   1590\u001b[0m \u001b[0;34m\u001b[0m\u001b[0m\n\u001b[1;32m   1591\u001b[0m         \u001b[0mbound\u001b[0m \u001b[0;34m=\u001b[0m \u001b[0mnew_sig\u001b[0m\u001b[0;34m.\u001b[0m\u001b[0mbind\u001b[0m\u001b[0;34m(\u001b[0m\u001b[0max\u001b[0m\u001b[0;34m,\u001b[0m \u001b[0;34m*\u001b[0m\u001b[0margs\u001b[0m\u001b[0;34m,\u001b[0m \u001b[0;34m**\u001b[0m\u001b[0mkwargs\u001b[0m\u001b[0;34m)\u001b[0m\u001b[0;34m\u001b[0m\u001b[0;34m\u001b[0m\u001b[0m\n",
      "\u001b[0;32m~/anaconda3/lib/python3.7/site-packages/matplotlib/axes/_axes.py\u001b[0m in \u001b[0;36mscatter\u001b[0;34m(self, x, y, s, c, marker, cmap, norm, vmin, vmax, alpha, linewidths, verts, edgecolors, plotnonfinite, **kwargs)\u001b[0m\n\u001b[1;32m   4488\u001b[0m                 \u001b[0moffsets\u001b[0m\u001b[0;34m=\u001b[0m\u001b[0moffsets\u001b[0m\u001b[0;34m,\u001b[0m\u001b[0;34m\u001b[0m\u001b[0;34m\u001b[0m\u001b[0m\n\u001b[1;32m   4489\u001b[0m                 \u001b[0mtransOffset\u001b[0m\u001b[0;34m=\u001b[0m\u001b[0mkwargs\u001b[0m\u001b[0;34m.\u001b[0m\u001b[0mpop\u001b[0m\u001b[0;34m(\u001b[0m\u001b[0;34m'transform'\u001b[0m\u001b[0;34m,\u001b[0m \u001b[0mself\u001b[0m\u001b[0;34m.\u001b[0m\u001b[0mtransData\u001b[0m\u001b[0;34m)\u001b[0m\u001b[0;34m,\u001b[0m\u001b[0;34m\u001b[0m\u001b[0;34m\u001b[0m\u001b[0m\n\u001b[0;32m-> 4490\u001b[0;31m                 \u001b[0malpha\u001b[0m\u001b[0;34m=\u001b[0m\u001b[0malpha\u001b[0m\u001b[0;34m\u001b[0m\u001b[0;34m\u001b[0m\u001b[0m\n\u001b[0m\u001b[1;32m   4491\u001b[0m                 )\n\u001b[1;32m   4492\u001b[0m         \u001b[0mcollection\u001b[0m\u001b[0;34m.\u001b[0m\u001b[0mset_transform\u001b[0m\u001b[0;34m(\u001b[0m\u001b[0mmtransforms\u001b[0m\u001b[0;34m.\u001b[0m\u001b[0mIdentityTransform\u001b[0m\u001b[0;34m(\u001b[0m\u001b[0;34m)\u001b[0m\u001b[0;34m)\u001b[0m\u001b[0;34m\u001b[0m\u001b[0;34m\u001b[0m\u001b[0m\n",
      "\u001b[0;32m~/anaconda3/lib/python3.7/site-packages/matplotlib/collections.py\u001b[0m in \u001b[0;36m__init__\u001b[0;34m(self, paths, sizes, **kwargs)\u001b[0m\n\u001b[1;32m    881\u001b[0m         \"\"\"\n\u001b[1;32m    882\u001b[0m \u001b[0;34m\u001b[0m\u001b[0m\n\u001b[0;32m--> 883\u001b[0;31m         \u001b[0mCollection\u001b[0m\u001b[0;34m.\u001b[0m\u001b[0m__init__\u001b[0m\u001b[0;34m(\u001b[0m\u001b[0mself\u001b[0m\u001b[0;34m,\u001b[0m \u001b[0;34m**\u001b[0m\u001b[0mkwargs\u001b[0m\u001b[0;34m)\u001b[0m\u001b[0;34m\u001b[0m\u001b[0;34m\u001b[0m\u001b[0m\n\u001b[0m\u001b[1;32m    884\u001b[0m         \u001b[0mself\u001b[0m\u001b[0;34m.\u001b[0m\u001b[0mset_paths\u001b[0m\u001b[0;34m(\u001b[0m\u001b[0mpaths\u001b[0m\u001b[0;34m)\u001b[0m\u001b[0;34m\u001b[0m\u001b[0;34m\u001b[0m\u001b[0m\n\u001b[1;32m    885\u001b[0m         \u001b[0mself\u001b[0m\u001b[0;34m.\u001b[0m\u001b[0mset_sizes\u001b[0m\u001b[0;34m(\u001b[0m\u001b[0msizes\u001b[0m\u001b[0;34m)\u001b[0m\u001b[0;34m\u001b[0m\u001b[0;34m\u001b[0m\u001b[0m\n",
      "\u001b[0;32m~/anaconda3/lib/python3.7/site-packages/matplotlib/collections.py\u001b[0m in \u001b[0;36m__init__\u001b[0;34m(self, edgecolors, facecolors, linewidths, linestyles, capstyle, joinstyle, antialiaseds, offsets, transOffset, norm, cmap, pickradius, hatch, urls, offset_position, zorder, **kwargs)\u001b[0m\n\u001b[1;32m    149\u001b[0m         \u001b[0mself\u001b[0m\u001b[0;34m.\u001b[0m\u001b[0m_uniform_offsets\u001b[0m \u001b[0;34m=\u001b[0m \u001b[0;32mNone\u001b[0m\u001b[0;34m\u001b[0m\u001b[0;34m\u001b[0m\u001b[0m\n\u001b[1;32m    150\u001b[0m         \u001b[0;32mif\u001b[0m \u001b[0moffsets\u001b[0m \u001b[0;32mis\u001b[0m \u001b[0;32mnot\u001b[0m \u001b[0;32mNone\u001b[0m\u001b[0;34m:\u001b[0m\u001b[0;34m\u001b[0m\u001b[0;34m\u001b[0m\u001b[0m\n\u001b[0;32m--> 151\u001b[0;31m             \u001b[0moffsets\u001b[0m \u001b[0;34m=\u001b[0m \u001b[0mnp\u001b[0m\u001b[0;34m.\u001b[0m\u001b[0masanyarray\u001b[0m\u001b[0;34m(\u001b[0m\u001b[0moffsets\u001b[0m\u001b[0;34m,\u001b[0m \u001b[0mfloat\u001b[0m\u001b[0;34m)\u001b[0m\u001b[0;34m\u001b[0m\u001b[0;34m\u001b[0m\u001b[0m\n\u001b[0m\u001b[1;32m    152\u001b[0m             \u001b[0;31m# Broadcast (2,) -> (1, 2) but nothing else.\u001b[0m\u001b[0;34m\u001b[0m\u001b[0;34m\u001b[0m\u001b[0;34m\u001b[0m\u001b[0m\n\u001b[1;32m    153\u001b[0m             \u001b[0;32mif\u001b[0m \u001b[0moffsets\u001b[0m\u001b[0;34m.\u001b[0m\u001b[0mshape\u001b[0m \u001b[0;34m==\u001b[0m \u001b[0;34m(\u001b[0m\u001b[0;36m2\u001b[0m\u001b[0;34m,\u001b[0m\u001b[0;34m)\u001b[0m\u001b[0;34m:\u001b[0m\u001b[0;34m\u001b[0m\u001b[0;34m\u001b[0m\u001b[0m\n",
      "\u001b[0;32m~/anaconda3/lib/python3.7/site-packages/numpy/core/numeric.py\u001b[0m in \u001b[0;36masanyarray\u001b[0;34m(a, dtype, order)\u001b[0m\n\u001b[1;32m    589\u001b[0m \u001b[0;34m\u001b[0m\u001b[0m\n\u001b[1;32m    590\u001b[0m     \"\"\"\n\u001b[0;32m--> 591\u001b[0;31m     \u001b[0;32mreturn\u001b[0m \u001b[0marray\u001b[0m\u001b[0;34m(\u001b[0m\u001b[0ma\u001b[0m\u001b[0;34m,\u001b[0m \u001b[0mdtype\u001b[0m\u001b[0;34m,\u001b[0m \u001b[0mcopy\u001b[0m\u001b[0;34m=\u001b[0m\u001b[0;32mFalse\u001b[0m\u001b[0;34m,\u001b[0m \u001b[0morder\u001b[0m\u001b[0;34m=\u001b[0m\u001b[0morder\u001b[0m\u001b[0;34m,\u001b[0m \u001b[0msubok\u001b[0m\u001b[0;34m=\u001b[0m\u001b[0;32mTrue\u001b[0m\u001b[0;34m)\u001b[0m\u001b[0;34m\u001b[0m\u001b[0;34m\u001b[0m\u001b[0m\n\u001b[0m\u001b[1;32m    592\u001b[0m \u001b[0;34m\u001b[0m\u001b[0m\n\u001b[1;32m    593\u001b[0m \u001b[0;34m\u001b[0m\u001b[0m\n",
      "\u001b[0;31mValueError\u001b[0m: setting an array element with a sequence."
     ]
    },
    {
     "data": {
      "image/png": "[encoded data removed]",
      "text/plain": [
       "<Figure size 432x288 with 1 Axes>"
      ]
     },
     "metadata": {
      "needs_background": "light"
     },
     "output_type": "display_data"
    }
   ],
   "source": [
    "# Visualising the clusters\n",
    "plt.scatter(X[Y_kmeans==0, 0], X[Y_kmeans==0, 1], s=70, c='violet', label= 'Cluster 1')\n",
    "plt.scatter(X[Y_kmeans==1, 0], X[Y_kmeans==1, 1], s=70, c='cyan', label= 'Cluster 2')\n",
    "plt.scatter(X[Y_kmeans==2, 0], X[Y_kmeans==2, 1], s=70, c='green', label= 'Cluster 3')\n",
    "plt.scatter(X[Y_kmeans==3, 0], X[Y_kmeans==3, 1], s=70, c='blue', label= 'Cluster 4')\n",
    "plt.scatter(X[Y_kmeans==4, 0], X[Y_kmeans==4, 1], s=70, c='orange', label= 'Cluster 5')\n",
    "#plt.scatter(X[Y_kmeans==5, 0], X[Y_kmeans==5, 1], s=70, c='yellow', label= 'Cluster 6')\n",
    "#plt.scatter(X[Y_kmeans==6, 0], X[Y_kmeans==6, 1], s=70, c='brown', label= 'Cluster 7')\n",
    "#plt.scatter(X[Y_kmeans==7, 0], X[Y_kmeans==7, 1], s=70, c='Grey', label= 'Cluster 8')\n",
    "#plt.scatter(X[Y_kmeans==8, 0], X[Y_kmeans==8, 1], s=70, c='purple', label= 'Cluster 9')\n",
    "#plt.scatter(X[Y_kmeans==9, 0], X[Y_kmeans==9, 1], s=70, c='bronze', label= 'Cluster 10')\n",
    "#plt.scatter(X[Y_kmeans==10, 0], X[Y_kmeans==10, 1], s=70, c='byzantium', label= 'Cluster 11')\n",
    "#plt.scatter(X[Y_kmeans==11, 0], X[Y_kmeans==11, 1], s=70, c='Carmine', label= 'Cluster 12')\n",
    "#plt.scatter(X[Y_kmeans==12, 0], X[Y_kmeans==12, 1], s=70, c='Cerise', label= 'Cluster 13')\n",
    "#plt.scatter(X[Y_kmeans==13, 0], X[Y_kmeans==13, 1], s=70, c='Cerulean', label= 'Cluster 14')\n",
    "#plt.scatter(X[Y_kmeans==14, 0], X[Y_kmeans==14, 1], s=70, c='Coral', label= 'Cluster 15')\n",
    "#plt.scatter(X[Y_kmeans==15, 0], X[Y_kmeans==15, 1], s=70, c='Crimson', label= 'Cluster 16')\n",
    "#plt.scatter(X[Y_kmeans==16, 0], X[Y_kmeans==16, 1], s=70, c='Cyan', label= 'Cluster 17')\n",
    "#plt.scatter(X[Y_kmeans==17, 0], X[Y_kmeans==17, 1], s=70, c='Erin', label= 'Cluster 18')\n",
    "#plt.scatter(X[Y_kmeans==18, 0], X[Y_kmeans==18, 1], s=70, c='Gold', label= 'Cluster 19')\n",
    "#plt.scatter(X[Y_kmeans==19, 0], X[Y_kmeans==19, 1], s=70, c='Jade', label= 'Cluster 20')\n",
    "#plt.scatter(X[Y_kmeans==20, 0], X[Y_kmeans==20, 1], s=70, c='Lavender', label= 'Cluster 21')\n",
    "#plt.scatter(X[Y_kmeans==21, 0], X[Y_kmeans==21, 1], s=70, c='Lemon', label= 'Cluster 22')\n",
    "#plt.scatter(X[Y_kmeans==22, 0], X[Y_kmeans==22, 1], s=70, c='Olive', label= 'Cluster 23')\n",
    "#plt.scatter(X[Y_kmeans==23, 0], X[Y_kmeans==23, 1], s=70, c='Orchid', label= 'Cluster 24')\n",
    "#plt.scatter(X[Y_kmeans==24, 0], X[Y_kmeans==24, 1], s=70, c='Peach', label= 'Cluster 25')\n",
    "#plt.scatter(X[Y_kmeans==25, 0], X[Y_kmeans==25, 1], s=70, c='Periwinkle', label= 'Cluster 26')\n",
    "#plt.scatter(X[Y_kmeans==26, 0], X[Y_kmeans==26, 1], s=70, c='Pink', label= 'Cluster 27')\n",
    "#plt.scatter(X[Y_kmeans==27, 0], X[Y_kmeans==27, 1], s=70, c='Plum', label= 'Cluster 28')\n",
    "#plt.scatter(X[Y_kmeans==28, 0], X[Y_kmeans==28, 1], s=70, c='Puce', label= 'Cluster 29')\n",
    "#plt.scatter(X[Y_kmeans==29, 0], X[Y_kmeans==29, 1], s=70, c='Red', label= 'Cluster 30')\n",
    "\n",
    "\n",
    "#plt.scatter(X[:, 0], X[:, 1], c=Y_kmeans, s=50, cmap='viridis')\n",
    "\n",
    "#centers = kmeans.cluster_centers_\n",
    "#plt.scatter(centers[:, 0], centers[:, 1], c='black', s=200, alpha=0.5);\n",
    "\n",
    "\n",
    "\n",
    "plt.scatter(kmeans.cluster_centers_[:, 0], kmeans.cluster_centers_[:, 1], s=70, c='black', label='Centroids' )\n",
    "plt.title('Clusters of tweets in economic and social groups')\n",
    "plt.xlabel('economic tweets')\n",
    "plt.ylabel('social tweets')\n",
    "plt.legend()\n",
    "plt.show()"
   ]
  },
  {
   "cell_type": "code",
   "execution_count": null,
   "metadata": {},
   "outputs": [],
   "source": []
  }
 ],
 "metadata": {
  "kernelspec": {
   "display_name": "Python 3",
   "language": "python",
   "name": "python3"
  },
  "language_info": {
   "codemirror_mode": {
    "name": "ipython",
    "version": 3
   },
   "file_extension": ".py",
   "mimetype": "text/x-python",
   "name": "python",
   "nbconvert_exporter": "python",
   "pygments_lexer": "ipython3",
   "version": "3.7.3"
  }
 },
 "nbformat": 4,
 "nbformat_minor": 4
}
